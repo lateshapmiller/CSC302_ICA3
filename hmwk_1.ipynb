{
  "nbformat": 4,
  "nbformat_minor": 0,
  "metadata": {
    "colab": {
      "provenance": [],
      "mount_file_id": "1nqsDreD_6iJ-5qD0iI6Ar6cZPhthEX_I",
      "authorship_tag": "ABX9TyOM3hU28X3tYi8vT/nVkio5",
      "include_colab_link": true
    },
    "kernelspec": {
      "name": "python3",
      "display_name": "Python 3"
    },
    "language_info": {
      "name": "python"
    }
  },
  "cells": [
    {
      "cell_type": "markdown",
      "metadata": {
        "id": "view-in-github",
        "colab_type": "text"
      },
      "source": [
        "<a href=\"https://colab.research.google.com/github/lateshapmiller/CSC302_LM/blob/main/hmwk_1.ipynb\" target=\"_parent\"><img src=\"https://colab.research.google.com/assets/colab-badge.svg\" alt=\"Open In Colab\"/></a>"
      ]
    },
    {
      "cell_type": "code",
      "execution_count": 2,
      "metadata": {
        "colab": {
          "base_uri": "https://localhost:8080/"
        },
        "id": "XMMuzmHfJlX9",
        "outputId": "4e7eac98-da8d-476b-db71-3dce913ff99a"
      },
      "outputs": [
        {
          "output_type": "stream",
          "name": "stdout",
          "text": [
            "Size of the DataFrame: (2394, 8) (rows, columns)\n",
            "\n",
            "Data types for all columns:\n",
            "Gender         object\n",
            "Event          object\n",
            "Location       object\n",
            "Year            int64\n",
            "Medal          object\n",
            "Name           object\n",
            "Nationality    object\n",
            "Result         object\n",
            "dtype: object\n",
            "\n",
            "Number of unique cities where matches were held: 23\n",
            "\n",
            "Total number of medals won by the USA team: 638\n",
            "\n",
            "Total number of medals for each Nationality:\n",
            "Nationality\n",
            "ALG      9\n",
            "ARG      4\n",
            "AUS     57\n",
            "AUT      4\n",
            "BAH     12\n",
            "      ... \n",
            "URS    131\n",
            "USA    638\n",
            "VEN      2\n",
            "YUG      1\n",
            "ZAM      1\n",
            "Name: Medal, Length: 97, dtype: int64\n"
          ]
        }
      ],
      "source": [
        "import pandas as pd\n",
        "\n",
        "# Load the CSV file\n",
        "file_path = '/content/drive/MyDrive/DATA/olympic_medals.csv'\n",
        "olympic_medals = pd.read_csv(file_path)\n",
        "\n",
        "# (a) Find the size of the data frame\n",
        "dataframe_size = olympic_medals.shape\n",
        "print(f\"Size of the DataFrame: {dataframe_size} (rows, columns)\")\n",
        "\n",
        "# (b) Report the data types for all columns\n",
        "column_data_types = olympic_medals.dtypes\n",
        "print(\"\\nData types for all columns:\")\n",
        "print(column_data_types)\n",
        "\n",
        "# (c) Find how many unique cities matches were held at\n",
        "unique_locations = len(olympic_medals['Location'].unique())\n",
        "print(f\"\\nNumber of unique cities where matches were held: {unique_locations}\")\n",
        "\n",
        "# (d) Find how many medals the USA team won in total\n",
        "usa_medals = olympic_medals[olympic_medals['Nationality'] == 'USA'].shape[0]\n",
        "print(f\"\\nTotal number of medals won by the USA team: {usa_medals}\")\n",
        "\n",
        "# (e) Find the total number of medals for each Nationality\n",
        "medals_per_nationality = olympic_medals.groupby(by='Nationality')['Medal'].count()\n",
        "print(\"\\nTotal number of medals for each Nationality:\")\n",
        "print(medals_per_nationality)\n"
      ]
    }
  ]
}